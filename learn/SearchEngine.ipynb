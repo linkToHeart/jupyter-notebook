{
  "nbformat": 4,
  "nbformat_minor": 0,
  "metadata": {
    "colab": {
      "provenance": [],
      "mount_file_id": "1fV8fUsjLyujAQuE3hdTXcB0EJEs-LIDN",
      "authorship_tag": "ABX9TyM1F0qDt+AvvKDlPvF9U62h",
      "include_colab_link": true
    },
    "kernelspec": {
      "name": "python3",
      "display_name": "Python 3"
    },
    "language_info": {
      "name": "python"
    }
  },
  "cells": [
    {
      "cell_type": "markdown",
      "metadata": {
        "id": "view-in-github",
        "colab_type": "text"
      },
      "source": [
        "<a href=\"https://colab.research.google.com/github/linkToHeart/jupyter-notebook/blob/main/learn/SearchEngine.ipynb\" target=\"_parent\"><img src=\"https://colab.research.google.com/assets/colab-badge.svg\" alt=\"Open In Colab\"/></a>"
      ]
    },
    {
      "cell_type": "markdown",
      "source": [
        "定义基础类"
      ],
      "metadata": {
        "id": "w53NaeSkpHDK"
      }
    },
    {
      "cell_type": "code",
      "execution_count": 3,
      "metadata": {
        "id": "iECiq6U4iMnk"
      },
      "outputs": [],
      "source": [
        "class SearchEngineBase(object):\n",
        "  def __init__(self):\n",
        "    pass\n",
        "\n",
        "  def add_corpus(self, file_path):\n",
        "    with open(file_path, 'r') as fin:\n",
        "      text = fin.read()\n",
        "      self.process_corups(file_path, text)\n",
        "\n",
        "  def process_corups(self, id, text):\n",
        "    raise Exception('process_corpus not implemented.')\n",
        "\n",
        "  def search(self, query):\n",
        "    raise Exception('search not implemented.')\n"
      ]
    },
    {
      "cell_type": "markdown",
      "source": [
        "定义子类"
      ],
      "metadata": {
        "id": "sntf3LK0o-iR"
      }
    },
    {
      "cell_type": "code",
      "source": [
        "class SimpleEngine(SearchEngineBase):\n",
        "  def __init__(self):\n",
        "    super(SimpleEngine, self).__init__()\n",
        "    self.__id_to_texts = {}\n",
        "\n",
        "  def process_corups(self, id, text):\n",
        "    self.__id_to_texts[id] = text\n",
        "\n",
        "  def search(self, query):\n",
        "    results = []\n",
        "    for id, text in self.__id_to_texts.items():\n",
        "      if query in text:\n",
        "        results.append(id)\n",
        "    return results\n",
        "\n",
        "def main(search_engine):\n",
        "  base_path = '/content/drive/MyDrive/Colab Notebooks/colab data/'\n",
        "  for flie_name in ['1.txt', '2.txt', '3.txt', '4.txt', '5.txt']:\n",
        "    search_engine.add_corpus(base_path + flie_name)\n",
        "\n",
        "  try:\n",
        "    while True:\n",
        "      query = input()\n",
        "      results = search_engine.search(query)\n",
        "      print('found {} result(s):'.format(len(results)))\n",
        "      for result in results:\n",
        "        print(result)\n",
        "  except:\n",
        "    print('End')\n",
        "\n",
        "\n",
        "search_engine = SimpleEngine()\n",
        "main(search_engine)\n"
      ],
      "metadata": {
        "colab": {
          "base_uri": "https://localhost:8080/"
        },
        "id": "6-pjsZxIo2Zw",
        "outputId": "22e02d95-ddcc-4a15-db42-cf51538cdc49"
      },
      "execution_count": 17,
      "outputs": [
        {
          "output_type": "stream",
          "name": "stdout",
          "text": [
            "low\n",
            "found 2 result(s):\n",
            "/content/drive/MyDrive/Colab Notebooks/colab data/3.txt\n",
            "/content/drive/MyDrive/Colab Notebooks/colab data/5.txt\n",
            "End\n"
          ]
        }
      ]
    },
    {
      "cell_type": "markdown",
      "source": [
        "Bag of Words 搜索模型"
      ],
      "metadata": {
        "id": "au-gm29otOmc"
      }
    },
    {
      "cell_type": "code",
      "source": [
        "import re\n",
        "class BOWEngine(SearchEngineBase):\n",
        "  def __init__(self):\n",
        "    super(BOWEngine, self).__init__()\n",
        "    self.__id_to_words = {}\n",
        "\n",
        "  def process_corups(self, id, text):\n",
        "    self.__id_to_words[id] = self.parse_text_to_words(text)\n",
        "\n",
        "  def search(self, query):\n",
        "    query_words = self.parse_text_to_words(query)\n",
        "    results = []\n",
        "    for id, words in self.__id_to_words.items():\n",
        "      if self.query_match(query_words, words):\n",
        "        results.append(id)\n",
        "    return results\n",
        "\n",
        "  @staticmethod\n",
        "  def query_match(query_words, words):\n",
        "    for query_word in query_words:\n",
        "      if query_word in words:\n",
        "        return True\n",
        "    return False\n",
        "\n",
        "  @staticmethod\n",
        "  def parse_text_to_words(text):\n",
        "    # 使用正则表达式去除标点符号和换行符\n",
        "    text = re.sub(r'[^\\w ]', ' ', text)\n",
        "    # 转为小写\n",
        "    text = text.lower()\n",
        "    # 生成所有单词的列表\n",
        "    word_list = text.split(' ')\n",
        "    # 去除空白单词\n",
        "    word_list = filter(None, word_list)\n",
        "    # 返回单词的 set\n",
        "    return set(word_list)\n",
        "\n",
        "search_engine = BOWEngine()\n",
        "main(search_engine)"
      ],
      "metadata": {
        "colab": {
          "base_uri": "https://localhost:8080/"
        },
        "id": "vo3Qor_uuA1i",
        "outputId": "a030c2a5-48e2-4e5f-8fa1-401b93a5ebe9"
      },
      "execution_count": 16,
      "outputs": [
        {
          "output_type": "stream",
          "name": "stdout",
          "text": [
            "i have a dream\n",
            "found 4 result(s):\n",
            "/content/drive/MyDrive/Colab Notebooks/colab data/1.txt\n",
            "/content/drive/MyDrive/Colab Notebooks/colab data/2.txt\n",
            "/content/drive/MyDrive/Colab Notebooks/colab data/3.txt\n",
            "/content/drive/MyDrive/Colab Notebooks/colab data/4.txt\n",
            "End\n"
          ]
        }
      ]
    }
  ]
}