{
  "nbformat": 4,
  "nbformat_minor": 0,
  "metadata": {
    "colab": {
      "provenance": [],
      "authorship_tag": "ABX9TyMWtsUKiSbGRZtx4mBW35Wp",
      "include_colab_link": true
    },
    "kernelspec": {
      "name": "python3",
      "display_name": "Python 3"
    },
    "language_info": {
      "name": "python"
    }
  },
  "cells": [
    {
      "cell_type": "markdown",
      "metadata": {
        "id": "view-in-github",
        "colab_type": "text"
      },
      "source": [
        "<a href=\"https://colab.research.google.com/github/linkToHeart/jupyter-notebook/blob/main/learn/SearchEngine.ipynb\" target=\"_parent\"><img src=\"https://colab.research.google.com/assets/colab-badge.svg\" alt=\"Open In Colab\"/></a>"
      ]
    },
    {
      "cell_type": "markdown",
      "source": [
        "定义基础类"
      ],
      "metadata": {
        "id": "w53NaeSkpHDK"
      }
    },
    {
      "cell_type": "code",
      "execution_count": null,
      "metadata": {
        "id": "iECiq6U4iMnk"
      },
      "outputs": [],
      "source": [
        "class SearchEngineBase(object):\n",
        "  def __init__(self):\n",
        "    pass\n",
        "\n",
        "  def add_corpus(self, file_path):\n",
        "    with open(file_path, 'r') as fin:\n",
        "      text = fin.read()\n",
        "      self.process_corups(file_path, text)\n",
        "\n",
        "  def process_corups(self, id, text):\n",
        "    raise Exception('process_corpus not implemented.')\n",
        "\n",
        "  def search(self, query):\n",
        "    raise Exception('search not implemented.')\n"
      ]
    },
    {
      "cell_type": "markdown",
      "source": [
        "定义子类"
      ],
      "metadata": {
        "id": "sntf3LK0o-iR"
      }
    },
    {
      "cell_type": "code",
      "source": [
        "class SimpleEngine(SearchEngineBase):\n",
        "  def __init__(self):\n",
        "    super(SimpleEngine, self).__init__()\n",
        "    self.__id_to_texts = {}\n",
        "\n",
        "  def process_corups(self, id, text):\n",
        "    self.__id_to_texts[id] = text\n",
        "\n",
        "  def search(self, query):\n",
        "    results = []\n",
        "    for id, text in self.__id_to_texts.items():\n",
        "      if query in text:\n",
        "        results.append(id)\n",
        "    return results\n",
        "\n",
        "\n"
      ],
      "metadata": {
        "id": "6-pjsZxIo2Zw"
      },
      "execution_count": null,
      "outputs": []
    },
    {
      "cell_type": "markdown",
      "source": [
        "读取文件"
      ],
      "metadata": {
        "id": "SlaGxCKRpbYy"
      }
    },
    {
      "cell_type": "code",
      "source": [
        "def main(search_engine):\n",
        "  for file_path in ['/content/1.txt', '/content/2.txt', '/content/3.txt','/content/4.txt', '/content/5.txt']:\n",
        "    search_engine.add_corpus(file_path)\n",
        "\n",
        "  try:\n",
        "    while True:\n",
        "      query = input()\n",
        "      results = search_engine.search(query)\n",
        "      print('found {} result(s):'.format(len(results)))\n",
        "      for result in results:\n",
        "        print(result)\n",
        "  except:\n",
        "    print('End')\n",
        "\n",
        "search_engine = SimpleEngine()\n",
        "main(search_engine)"
      ],
      "metadata": {
        "colab": {
          "base_uri": "https://localhost:8080/"
        },
        "id": "0tncfakEosIr",
        "outputId": "2f63c59c-c20d-4c2a-f9d3-74522e4aa7ec"
      },
      "execution_count": 7,
      "outputs": [
        {
          "output_type": "stream",
          "name": "stdout",
          "text": [
            "to\n",
            "found 5 result(s):\n",
            "/content/1.txt\n",
            "/content/2.txt\n",
            "/content/3.txt\n",
            "/content/4.txt\n",
            "/content/5.txt\n",
            "End\n"
          ]
        }
      ]
    }
  ]
}