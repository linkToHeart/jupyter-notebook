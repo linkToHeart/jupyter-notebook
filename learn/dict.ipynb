{
  "nbformat": 4,
  "nbformat_minor": 0,
  "metadata": {
    "colab": {
      "provenance": [],
      "toc_visible": true,
      "authorship_tag": "ABX9TyM9/lMUwxEo2rXVygpn773t",
      "include_colab_link": true
    },
    "kernelspec": {
      "name": "python3",
      "display_name": "Python 3"
    },
    "language_info": {
      "name": "python"
    }
  },
  "cells": [
    {
      "cell_type": "markdown",
      "metadata": {
        "id": "view-in-github",
        "colab_type": "text"
      },
      "source": [
        "<a href=\"https://colab.research.google.com/github/linkToHeart/jupyter-notebook/blob/main/learn/dict.ipynb\" target=\"_parent\"><img src=\"https://colab.research.google.com/assets/colab-badge.svg\" alt=\"Open In Colab\"/></a>"
      ]
    },
    {
      "cell_type": "markdown",
      "source": [
        "字典值的获取"
      ],
      "metadata": {
        "id": "MovHQ3EtFvwx"
      }
    },
    {
      "cell_type": "code",
      "execution_count": null,
      "metadata": {
        "colab": {
          "base_uri": "https://localhost:8080/",
          "height": 35
        },
        "id": "v00Q6LZjFj9N",
        "outputId": "d7b8d6ed-eeac-4261-d16b-1c958d18e2cb"
      },
      "outputs": [
        {
          "output_type": "execute_result",
          "data": {
            "text/plain": [
              "'jason'"
            ],
            "application/vnd.google.colaboratory.intrinsic+json": {
              "type": "string"
            }
          },
          "metadata": {},
          "execution_count": 4
        }
      ],
      "source": [
        "d = {'name': 'jason', 'age': 20}\n",
        "d['name']"
      ]
    },
    {
      "cell_type": "code",
      "source": [
        "s = {1, 2, 3}\n",
        "2 in s"
      ],
      "metadata": {
        "colab": {
          "base_uri": "https://localhost:8080/"
        },
        "id": "ZKeXNXDnHqzE",
        "outputId": "5ea518fa-e142-421c-c693-b26139ecc410"
      },
      "execution_count": null,
      "outputs": [
        {
          "output_type": "execute_result",
          "data": {
            "text/plain": [
              "True"
            ]
          },
          "metadata": {},
          "execution_count": 6
        }
      ]
    },
    {
      "cell_type": "code",
      "source": [
        "d = {'b': 1, 'a': 2, 'c': 10}\n",
        "d_sort_by_key = sorted(d.items(), key=lambda x: x[0]) # 根据字典键的升序排序\n",
        "d_sort_by_value = sorted(d.items(), key=lambda x: x[1]) # 根据字典键的升序排序\n",
        "d_sort_by_key\n",
        "d_sort_by_value"
      ],
      "metadata": {
        "colab": {
          "base_uri": "https://localhost:8080/"
        },
        "id": "CvEn0QNfIwBY",
        "outputId": "e1e8a245-19b8-4a05-a99c-bc1ad4dc8507"
      },
      "execution_count": null,
      "outputs": [
        {
          "output_type": "execute_result",
          "data": {
            "text/plain": [
              "[('b', 1), ('a', 2), ('c', 10)]"
            ]
          },
          "metadata": {},
          "execution_count": 13
        }
      ]
    },
    {
      "cell_type": "code",
      "source": [
        "s = {3, 4, 2, 1}\n",
        "sorted(s)"
      ],
      "metadata": {
        "colab": {
          "base_uri": "https://localhost:8080/"
        },
        "id": "edVwvgsEJxzc",
        "outputId": "1881008c-c33d-43a4-f67e-a18a5e36418c"
      },
      "execution_count": null,
      "outputs": [
        {
          "output_type": "execute_result",
          "data": {
            "text/plain": [
              "[1, 2, 3, 4]"
            ]
          },
          "metadata": {},
          "execution_count": 15
        }
      ]
    },
    {
      "cell_type": "markdown",
      "source": [
        "字段的键不能用列表，因为列表是可变的，要用不可变的数据类型当作键，例如：string，number，元组（但如果元组里面包含可变的list，也是不可以的）"
      ],
      "metadata": {
        "id": "CAtEk--TNyPW"
      }
    },
    {
      "cell_type": "code",
      "source": [
        "d = {'name': 'jason', ('education', 1): ['Tsinghua University', 'Stanford University']}\n",
        "d"
      ],
      "metadata": {
        "colab": {
          "base_uri": "https://localhost:8080/"
        },
        "id": "ILp4XvczKwSb",
        "outputId": "f3e2bb80-b2af-469f-e003-4414497cc0ac"
      },
      "execution_count": null,
      "outputs": [
        {
          "output_type": "execute_result",
          "data": {
            "text/plain": [
              "{'name': 'jason',\n",
              " ('education', 1): ['Tsinghua University', 'Stanford University']}"
            ]
          },
          "metadata": {},
          "execution_count": 24
        }
      ]
    }
  ]
}